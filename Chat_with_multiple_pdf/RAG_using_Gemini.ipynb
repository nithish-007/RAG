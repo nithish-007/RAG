{
 "cells": [
  {
   "cell_type": "code",
   "execution_count": null,
   "id": "a7144ac2",
   "metadata": {},
   "outputs": [],
   "source": [
    "# Installations: \n",
    "# pip install langchain langchain-google-genai chromadb pypdf sentence-transformers tiktoken\n",
    "\n",
    "from langchain_google_genai import GoogleGenerativeAIEmbeddings, ChatGoogleGenerativeAI\n",
    "from langchain_community.document_loaders import PyPDFLoader, DirectoryLoader\n",
    "from langchain.text_splitter import RecursiveCharacterTextSplitter\n",
    "from langchain_community.vectorstores import Chroma\n",
    "from langchain.chains import RetrievalQA\n",
    "from langchain.prompts import PromptTemplate\n",
    "from langchain.retrievers import MultiQueryRetriever, ContextualCompressionRetriever\n",
    "from langchain.retrievers.document_compressors import EmbeddingsFilter\n",
    "import os"
   ]
  },
  {
   "cell_type": "code",
   "execution_count": 4,
   "id": "ac3d72f0",
   "metadata": {},
   "outputs": [],
   "source": [
    "# Set API key (get from: https://aistudio.google.com/app/apikey)\n",
    "from dotenv import load_dotenv\n",
    "load_dotenv()\n",
    "os.environ[\"GOOGLE_API_KEY\"] = os.getenv(\"GEMINI_API_KEY\")"
   ]
  },
  {
   "cell_type": "code",
   "execution_count": 21,
   "id": "72e0f05d",
   "metadata": {},
   "outputs": [],
   "source": [
    "def load_documents(pdf_directory):\n",
    "    \"\"\"Load and split PDFs with metadata preservation\"\"\"\n",
    "    loader = DirectoryLoader(\n",
    "        pdf_directory, \n",
    "        glob=\"*.pdf\", \n",
    "        loader_cls=PyPDFLoader,\n",
    "        show_progress=True\n",
    "    )\n",
    "    text_splitter = RecursiveCharacterTextSplitter(\n",
    "        chunk_size=1000,\n",
    "        chunk_overlap=200,\n",
    "        add_start_index=True\n",
    "    )\n",
    "    docs = loader.load()\n",
    "    return text_splitter.split_documents(docs)"
   ]
  },
  {
   "cell_type": "code",
   "execution_count": 22,
   "id": "8f61e2b8",
   "metadata": {},
   "outputs": [
    {
     "name": "stdout",
     "output_type": "stream",
     "text": [
      "Loading documents...\n"
     ]
    },
    {
     "name": "stderr",
     "output_type": "stream",
     "text": [
      "100%|██████████| 9/9 [00:02<00:00,  3.51it/s]"
     ]
    },
    {
     "name": "stdout",
     "output_type": "stream",
     "text": [
      "Loaded 653 document chunks from D:\\AI_ML_DL\\papers\n"
     ]
    },
    {
     "name": "stderr",
     "output_type": "stream",
     "text": [
      "\n"
     ]
    }
   ],
   "source": [
    "print(\"Loading documents...\")\n",
    "doc_dir = r\"D:\\AI_ML_DL\\papers\"\n",
    "docs = load_documents(doc_dir)\n",
    "print(f\"Loaded {len(docs)} document chunks from {doc_dir}\")\n"
   ]
  },
  {
   "cell_type": "code",
   "execution_count": 30,
   "id": "742f71fc",
   "metadata": {},
   "outputs": [],
   "source": [
    "# ------------------\n",
    "# Embedding model\n",
    "# ------------------\n",
    "embeddings = GoogleGenerativeAIEmbeddings(model=\"models/embedding-001\")"
   ]
  },
  {
   "cell_type": "code",
   "execution_count": 31,
   "id": "97d204d0",
   "metadata": {},
   "outputs": [
    {
     "name": "stdout",
     "output_type": "stream",
     "text": [
      "Creating vector store...\n"
     ]
    }
   ],
   "source": [
    "def create_vector_store(docs):\n",
    "    \"\"\"Create ChromaDB vector store with Gemini embeddings\"\"\"\n",
    "    \n",
    "    # Create with metadata\n",
    "    vector_store = Chroma.from_documents(\n",
    "        documents=docs,\n",
    "        embedding=embeddings,\n",
    "        collection_metadata={\"hnsw:space\": \"cosine\"},\n",
    "        persist_directory=\"./chroma_multi_pdf\"\n",
    "    )\n",
    "\n",
    "    return vector_store\n",
    "\n",
    "print(\"Creating vector store...\")\n",
    "vector_store = create_vector_store(docs)"
   ]
  },
  {
   "cell_type": "code",
   "execution_count": 32,
   "id": "1befc895",
   "metadata": {},
   "outputs": [
    {
     "name": "stdout",
     "output_type": "stream",
     "text": [
      "Creating retriever...\n"
     ]
    }
   ],
   "source": [
    "def create_advanced_retriever(pdf_directory):\n",
    "    \"\"\"Create multi-query retriever with contextual compression\"\"\"\n",
    "    # Base retriever\n",
    "    base_retriever = vector_store.as_retriever(\n",
    "        search_type=\"mmr\",\n",
    "        search_kwargs={\n",
    "            \"k\": 10,\n",
    "            \"filter\": {\"source\": {\"$in\": [pdf_directory]}},\n",
    "            \"score_threshold\": 0.3\n",
    "        }\n",
    "    )\n",
    "    \n",
    "    # Multi-query expansion\n",
    "    multi_retriever = MultiQueryRetriever.from_llm(\n",
    "        retriever=base_retriever,\n",
    "        llm=ChatGoogleGenerativeAI(model=\"gemini-pro\", temperature=0)\n",
    "    )\n",
    "    \n",
    "    # Contextual compression\n",
    "    embeddings_filter = EmbeddingsFilter(\n",
    "        embeddings=embeddings,\n",
    "        similarity_threshold=0.75\n",
    "    )\n",
    "    return ContextualCompressionRetriever(\n",
    "        base_compressor=embeddings_filter,\n",
    "        base_retriever=multi_retriever\n",
    "    )\n",
    "\n",
    "print(\"Creating retriever...\")\n",
    "retriever = create_advanced_retriever(doc_dir)"
   ]
  },
  {
   "cell_type": "code",
   "execution_count": 33,
   "id": "c3ed4fea",
   "metadata": {},
   "outputs": [],
   "source": [
    "# Custom prompt template with source awareness\n",
    "prompt_template = \"\"\"\n",
    "You are an expert research assistant analyzing multiple documents.\n",
    "Use ONLY the following context from multiple PDF sources to answer:\n",
    "\n",
    "{context}\n",
    "\n",
    "---\n",
    "Question: {question}\n",
    "Answer in MARKDOWN format with SOURCE CITATIONS. If uncertain, say \"I need more context\".\n",
    "\n",
    "Structure:\n",
    "1. Direct answer\n",
    "2. Supporting evidence with [Source: filename.pdf, page X]\n",
    "3. Comparison of perspectives if multiple sources exist\n",
    "\"\"\"\n",
    "\n",
    "PROMPT = PromptTemplate(\n",
    "    template=prompt_template,\n",
    "    input_variables=[\"context\", \"question\"]\n",
    ")\n",
    "\n",
    "# Create QA chain with Gemini Pro\n",
    "llm = ChatGoogleGenerativeAI(\n",
    "    model=\"gemini-pro\",\n",
    "    temperature=0.1,\n",
    "    convert_system_message_to_human=True\n",
    ")\n",
    "\n",
    "qa_chain = RetrievalQA.from_chain_type(\n",
    "    llm=llm,\n",
    "    chain_type=\"stuff\",\n",
    "    retriever=retriever,\n",
    "    chain_type_kwargs={\"prompt\": PROMPT},\n",
    "    return_source_documents=True\n",
    ")\n",
    "\n",
    "def query(question):\n",
    "    \"\"\"Execute a query with source citation\"\"\"\n",
    "    if not qa_chain:\n",
    "        raise ValueError(\"Initialize the system first with .initialize()\")\n",
    "    \n",
    "    result = qa_chain.invoke({\"query\": question})\n",
    "    \n",
    "    # Process sources\n",
    "    sources = {}\n",
    "    for doc in result['source_documents']:\n",
    "        source = doc.metadata['source']\n",
    "        page = doc.metadata.get('page', 0) + 1\n",
    "        if source not in sources:\n",
    "            sources[source] = []\n",
    "        sources[source].append(page)\n",
    "    \n",
    "    # Format sources\n",
    "    source_list = []\n",
    "    for source, pages in sources.items():\n",
    "        short_name = source.split(\"/\")[-1]\n",
    "        source_list.append(f\"{short_name} (pages {', '.join(map(str, sorted(set(pages))))}\")\n",
    "    \n",
    "    return {\n",
    "        \"answer\": result['result'],\n",
    "        \"sources\": \"\\n\".join(source_list)\n",
    "    }"
   ]
  },
  {
   "cell_type": "code",
   "execution_count": null,
   "id": "78048f31",
   "metadata": {},
   "outputs": [],
   "source": [
    "# Example conversation\n",
    "questions = [\n",
    "\"What are the main differences in methodology between paper A and paper B?\",\n",
    "\"How do these papers approach ethical considerations?\",\n",
    "\"Create a comparison table of results from all papers\"\n",
    "]\n",
    "\n",
    "for question in questions:\n",
    "    print(f\"\\n\\033[1mQuestion:\\033[0m {question}\")\n",
    "    response = chatbot.query(question)\n",
    "    print(f\"\\n\\033[1mAnswer:\\033[0m\\n{response['answer']}\")\n",
    "    print(f\"\\n\\033[1mSources:\\033[0m\\n{response['sources']}\")\n",
    "    print(\"\\n\" + \"-\"*80)"
   ]
  }
 ],
 "metadata": {
  "kernelspec": {
   "display_name": "Python 3",
   "language": "python",
   "name": "python3"
  },
  "language_info": {
   "codemirror_mode": {
    "name": "ipython",
    "version": 3
   },
   "file_extension": ".py",
   "mimetype": "text/x-python",
   "name": "python",
   "nbconvert_exporter": "python",
   "pygments_lexer": "ipython3",
   "version": "3.13.3"
  }
 },
 "nbformat": 4,
 "nbformat_minor": 5
}
